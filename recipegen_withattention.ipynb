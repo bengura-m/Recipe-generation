{
 "cells": [
  {
   "cell_type": "code",
   "execution_count": 49,
   "id": "c5842020",
   "metadata": {},
   "outputs": [
    {
     "name": "stderr",
     "output_type": "stream",
     "text": [
      "[nltk_data] Downloading package punkt to\n",
      "[nltk_data]     C:\\Users\\mbeng\\AppData\\Roaming\\nltk_data...\n",
      "[nltk_data]   Package punkt is already up-to-date!\n"
     ]
    },
    {
     "data": {
      "text/plain": [
       "True"
      ]
     },
     "execution_count": 49,
     "metadata": {},
     "output_type": "execute_result"
    }
   ],
   "source": [
    "import re\n",
    "import os\n",
    "import nltk\n",
    "import time\n",
    "import tensorflow as tf\n",
    "import numpy as np\n",
    "import matplotlib.pyplot as plt\n",
    "import nltk.translate.meteor_score as meteor_score\n",
    "from tensorflow.keras.preprocessing.text import Tokenizer\n",
    "from tensorflow.keras.preprocessing.sequence import pad_sequences\n",
    "from tensorflow.keras.layers import Embedding, LSTM, Dense, Attention\n",
    "from tensorflow.keras.models import Model\n",
    "from nltk.translate import bleu_score\n",
    "from nltk.translate.bleu_score import SmoothingFunction\n",
    "from nltk.util import ngrams\n",
    "from tensorflow.keras.models import load_model\n",
    "from keras.callbacks import EarlyStopping\n",
    "from nltk.tokenize import word_tokenize\n",
    "nltk.download('punkt')\n",
    "\n"
   ]
  },
  {
   "cell_type": "markdown",
   "id": "a7dc0c58",
   "metadata": {},
   "source": [
    "# PROCESSING THE TRAINING DATA \n",
    "\n"
   ]
  },
  {
   "cell_type": "code",
   "execution_count": 50,
   "id": "4ed546c3",
   "metadata": {},
   "outputs": [
    {
     "name": "stdout",
     "output_type": "stream",
     "text": [
      "Successfully merged the MMF files into training_set/merged_file_train.mmf.\n",
      "Total number of recipes: 85282\n"
     ]
    }
   ],
   "source": [
    "### PROCESSING TRAINING DATA TO PUT IT ALL IN ONE FILE CALLED MERGED_FILE_TRAIN.MMF\n",
    "\n",
    "train_folder = os.path.abspath('training_set/train')\n",
    "source_folders = [train_folder]\n",
    "\n",
    "# Specify the path of the output merged MMF file\n",
    "output_train_file = 'training_set/merged_file_train.mmf'\n",
    "\n",
    "# Initialize the recipe count\n",
    "recipe_count = 0\n",
    "\n",
    "# Open the output file in write mode\n",
    "with open(output_train_file, 'w') as outfile:\n",
    "    # Iterate through each source folder\n",
    "    for source_folder in source_folders:\n",
    "        # Iterate through all files in the source folder\n",
    "        for filename in os.listdir(source_folder):\n",
    "            if filename.endswith('.mmf'):\n",
    "                file_path = os.path.join(source_folder, filename)\n",
    "                # Read the content of each MMF file\n",
    "                with open(file_path, 'r') as infile:\n",
    "                    # Initialize an empty dictionary for each recipe object\n",
    "                    recipe = {}\n",
    "                    # Flag to indicate if the ingredients section has been encountered\n",
    "                    ingredients_section = False\n",
    "\n",
    "                    # Iterate through each line in the MMF file\n",
    "                    for line in infile:\n",
    "                        line = line.strip()  # Remove leading/trailing white space\n",
    "\n",
    "                        if not line:  # Skip empty lines\n",
    "                            continue\n",
    "\n",
    "                        if line.endswith('END RECIPE'):\n",
    "                            # End of recipe, write the recipe object to the output file\n",
    "                            outfile.write('Title: ' + recipe['Title'] + '\\n')\n",
    "                            outfile.write('categories: ' + recipe['categories'] + '\\n')\n",
    "                            outfile.write('servings: ' + recipe['servings'] + '\\n')\n",
    "                            outfile.write('ingredients: ' + recipe['ingredients'] + '\\n')\n",
    "                            if 'instructions' in recipe:\n",
    "                                outfile.write('instructions: ' + str(recipe['instructions']) + '\\n')\n",
    "                            else:\n",
    "                                outfile.write('instructions: \\n')\n",
    "                            outfile.write('\\n')\n",
    "                            recipe = {}  # Reset the recipe dictionary for the next recipe\n",
    "                            recipe_count += 1\n",
    "                            ingredients_section = False  # Reset the ingredients section flag\n",
    "                        elif line == 'ingredients:':\n",
    "                            # Start of the ingredients section\n",
    "                            ingredients_section = True\n",
    "                        elif ':' in line and not ingredients_section:\n",
    "                            # Split the line into key and value\n",
    "                            key, value = line.split(':', 1)\n",
    "                            key = key.strip()  # Remove leading/trailing white space\n",
    "                            value = value.strip()  # Remove leading/trailing white space\n",
    "                            recipe[key] = value  # Add the key-value pair to the recipe dictionary\n",
    "                        else:\n",
    "                            # Handle lines without a colon or within the ingredients section\n",
    "                               # Handle lines without a colon or within the ingredients section\n",
    "                            if 'instructions' not in recipe:\n",
    "                                recipe['instructions'] = ''\n",
    "                            recipe['instructions'] += line.strip() + ' '\n",
    "                    # Increment the recipe count after processing each file\n",
    "                    recipe_count += 1\n",
    "\n",
    "print(f\"Successfully merged the MMF files into {output_train_file}.\")\n",
    "print('Total number of recipes:', recipe_count)"
   ]
  },
  {
   "cell_type": "code",
   "execution_count": 51,
   "id": "0ff0175f",
   "metadata": {},
   "outputs": [],
   "source": [
    "#### CLEANING THE DATA ###\n",
    "output_train_file = os.path.abspath('training_set/merged_file_train.mmf')\n",
    "\n",
    "# Read the content of the merged MMF file\n",
    "with open(output_train_file, 'r') as merged_file:\n",
    "    merged_content = merged_file.read()\n",
    "\n",
    "\n",
    "# Function to clean and standardize the format of ingredients\n",
    "def clean_ingredients(ingredients):\n",
    "    # Define multiple noize_strings\n",
    "    noize_strings = ['tb', 'oz', 'ts', 'tbsp', 'c', 'qt', 'lb']\n",
    "    \n",
    "    # Join the noize_strings into a single pattern for easier replacement\n",
    "    noize_pattern = '|'.join(noize_strings)\n",
    "\n",
    "    ingredients = re.sub(r'\\(.*?\\)', '', ingredients)  # Remove anything inside parentheses\n",
    "    ingredients = re.sub(r'[0-9/]+', '', ingredients)  # Remove measurement units\n",
    "    ingredients = re.sub(r'->', '', ingredients)  # Remove arrows\n",
    "    ingredients = re.sub(noize_pattern, '', ingredients)  # Remove the defined noize_strings\n",
    "    ingredients = re.sub(r'\\s+', ' ', ingredients).strip()  # Remove extra spaces and standardize spacing\n",
    "    ingredients = re.sub(r'[^\\w\\s]', '', ingredients.lower())\n",
    "    return ingredients\n",
    "\n",
    "\n",
    "# Function to clean and standardize the format of instructions\n",
    "def clean_instructions(instructions):\n",
    "    # Define multiple noize_strings\n",
    "    noize_strings = ['tb', 'oz', 'ts', 'tbsp', 'c', 'qt', 'lb']\n",
    "    # Join the noize_strings into a single pattern for easier replacement\n",
    "    noize_pattern = '|'.join(noize_strings)\n",
    "\n",
    "    instructions = instructions.replace('\\n', ' ')  # Remove line breaks\n",
    "    instructions = re.sub(noize_pattern, '', instructions)  # Remove the defined noize_strings\n",
    "    instructions = re.sub(r'\\s+', ' ', instructions).strip()  # Remove extra spaces and standardize spacing\n",
    "    instructions = re.sub(r'[^\\w\\s]', '', instructions.lower())\n",
    "    return instructions\n",
    "\n",
    "# Split the content into individual recipe objects\n",
    "train_recipes = merged_content.split('\\n\\n')\n",
    "\n",
    "# Function to Parse each recipe string into a dictionary and clean ingredients and instructions\n",
    "def parse_recipe(recipe_string):\n",
    "    recipe_dict = {}\n",
    "    lines = recipe_string.strip().split('\\n')\n",
    "    for line in lines:\n",
    "        try:\n",
    "            key, value = line.split(': ', 1)\n",
    "            if key == 'ingredients':\n",
    "                value = clean_ingredients(value)\n",
    "                recipe_dict[key] = value\n",
    "            elif key == 'instructions':\n",
    "                value = clean_instructions(value)\n",
    "                recipe_dict[key] = value\n",
    "            # Ignore title, categories, and servings from the recipe dictionary\n",
    "        except ValueError:\n",
    "            # Skip lines that don't follow the expected key-value format\n",
    "            continue\n",
    "    return recipe_dict\n",
    "\n",
    "\n",
    "# Function to Parse each recipe string into a dictionary and clean ingredients and instructions\n",
    "train_parsed_recipes = [parse_recipe(recipe) for recipe in train_recipes]"
   ]
  },
  {
   "cell_type": "code",
   "execution_count": 52,
   "id": "f8453c60",
   "metadata": {},
   "outputs": [
    {
     "name": "stdout",
     "output_type": "stream",
     "text": [
      "ingredients: lg whole kale leaves washed and trimmed dash lemon juie dash garli powder dijon or spiy brown mustard whole wheat pita bread\n",
      "instructions: steam the kale for 2 minutes and drain off any liquid  sprinkle with lemon juie and garli powder and hill  when ready to serve  ut the pita bread in half  spread eah poket with mustard  and then stuff with the old seasoned kale \n"
     ]
    }
   ],
   "source": [
    "# Function to print an example of a parsed recipe\n",
    "def print_parsed_recipe(recipe):\n",
    "    if recipe:\n",
    "        for key, value in recipe.items():\n",
    "            print(f\"{key}: {value}\")\n",
    "    else:\n",
    "        print(\"Recipe not found.\")\n",
    "\n",
    "# Get a recipe from the parsed_recipes list\n",
    "train_recipe = train_parsed_recipes[3000] if train_parsed_recipes else None\n",
    "print_parsed_recipe(train_recipe)"
   ]
  },
  {
   "cell_type": "code",
   "execution_count": 53,
   "id": "c72a9f61",
   "metadata": {},
   "outputs": [
    {
     "name": "stdout",
     "output_type": "stream",
     "text": [
      "Dataset size AFTER validation 85135\n"
     ]
    }
   ],
   "source": [
    "#This is making sure the each recipe used for training has the required data\n",
    "def recipe_validate_required_fields(recipe):\n",
    "    required_keys = ['ingredients', 'instructions']\n",
    "    \n",
    "    if not recipe:\n",
    "        return False\n",
    "    \n",
    "    for required_key in required_keys:\n",
    "        if required_key not in recipe or not recipe[required_key]:\n",
    "            return False\n",
    "        \n",
    "        if isinstance(recipe[required_key], list) and len(recipe[required_key]) == 0:\n",
    "            return False\n",
    "    \n",
    "    return True\n",
    "\n",
    "\n",
    "# Filter the recipes and create a validated dataset\n",
    "train_dataset_validated = [recipe for recipe in train_parsed_recipes if recipe_validate_required_fields(recipe)]\n",
    "print('Dataset size AFTER validation', len(train_dataset_validated))"
   ]
  },
  {
   "cell_type": "code",
   "execution_count": 54,
   "id": "768c904b",
   "metadata": {},
   "outputs": [
    {
     "name": "stdout",
     "output_type": "stream",
     "text": [
      "Stringified dataset size:  85135\n"
     ]
    }
   ],
   "source": [
    "STOP_WORD_INGREDIENTS = '\\n🥕\\n\\n'\n",
    "STOP_WORD_INSTRUCTIONS = '\\n📝\\n\\n'\n",
    "\n",
    "# Function to stringify the recipes and remove noise words\n",
    "def recipe_to_string(recipe):\n",
    "    # These strings are presented as a part of recipes so we need to clean it up.\n",
    "    noize_strings = ['tb', 'oz', 'ts', 'tbsp', 'c', 'qt', 'lb']\n",
    "        \n",
    "    # Join the noize_strings into a single pattern for easier replacement\n",
    "    noize_pattern = '|'.join(noize_strings)\n",
    "    \n",
    "    ingredients = recipe['ingredients'].split('\\t')\n",
    "    instructions = recipe['instructions'].split('.')  \n",
    "    \n",
    "    # Remove the noize_strings from ingredients and instructions\n",
    "    ingredients_cleaned = [re.sub(noize_pattern, '', ingredient) for ingredient in ingredients]\n",
    "    instructions_cleaned = [re.sub(noize_pattern, '', instruction) for instruction in instructions]\n",
    "\n",
    "    # Build the ingredients and instructions strings\n",
    "    ingredients_string = ''\n",
    "    for ingredient in ingredients_cleaned:\n",
    "        ingredient = ingredient.strip()\n",
    "        if ingredient:\n",
    "            ingredients_string += f'  • {ingredient}\\n'\n",
    "\n",
    "    instructions_string = ''\n",
    "    for instruction in instructions_cleaned:\n",
    "        instruction = instruction.strip()\n",
    "        if instruction:\n",
    "            instructions_string += f'  ▪︎ {instruction}\\n'\n",
    "\n",
    "    return f'{STOP_WORD_INGREDIENTS}{ingredients_string}{STOP_WORD_INSTRUCTIONS}{instructions_string}'\n",
    "\n",
    "\n",
    "train_dataset_stringified = [recipe_to_string(recipe) for recipe in train_dataset_validated]\n",
    "print('Stringified dataset size: ', len(train_dataset_stringified))"
   ]
  },
  {
   "cell_type": "code",
   "execution_count": 55,
   "id": "5e404b1c",
   "metadata": {
    "scrolled": false
   },
   "outputs": [
    {
     "name": "stdout",
     "output_type": "stream",
     "text": [
      "Recipe #1\n",
      "---------\n",
      "\n",
      "🥕\n",
      "\n",
      "  • navy beans dry small bee lean beef green abbage shredded slab baon large leeks slied old water medium potatoes ut bay leaf into eighths whole pepperorns n tomatoes loves garli tomato paste dried parsley red wine vinegar arrot sugar elery stalk kieasa large red onion flour salt butter melted bee for soup sour ream\n",
      "\n",
      "📝\n",
      "\n",
      "  ▪︎ over beans with water and allow to soak overnight  ook until tender  drain  set aside  plae beef  baon and water in large soup pot  bring to a boil  skim fat from surfae  add bay leaf  pepperorns  garli  parsley  arrot  elery  onion and salt  over and simmer over low heat for about 112 hours  srub bee for soup and ook in boiling water until tender  about 45 minutes  drain and disard water  ool  peel and ut eah beet into eighths  srub small bee  grate  over with water to soak  remove meat from soup  set aside  strain soup into another pot and add ooked bee  abbage  leeks  potatoes  tomatoes  tomato paste  vinegar  sugar  beef and baon  bring to a boil and simmer 45 minutes  ut kieasa into hunks and add with navy beans to soup  simmer 20 minutes more  mix flour and butter together to form paste  stir into soup to thiken slightly  strain raw bee  saving liquid and disarding bee  add beet liquid to soup  slie meat and arrange in individual soup bowls  pour hot soup with vegetables over meat  garnish eah serving with a dollop of sour ream  if desired\n",
      "\n",
      "\n",
      "\n",
      "Recipe #2\n",
      "---------\n",
      "\n",
      "🥕\n",
      "\n",
      "  • n whole green hili peppers milk sharp heddar heese allpurpose flour green onions slied salt shredded mzarella heese n green hili salsa eggs\n",
      "\n",
      "📝\n",
      "\n",
      "  ▪︎ split hili peppers lengthwise and remove seeds and pith  spread hilies in a single layer in a greased 9x13inh baking dish  sprinkle heddar heese  green onions  and 112 ups of the mzarella heese over hilies  in a bowl  beat eggs  milk  flour  and salt together until smooth  pour over hilies and heese  bake in a 325 degrees oven for 50 minutes or until a knife inserted in ustard omes out lean  meanwhile  mix salsa with the remaining 112 ups mzarella heese  sprinkle over asserole and return to oven for 10 minutes or until heese mel  let stand for 5 minutes before serving\n",
      "\n",
      "\n",
      "\n",
      "Recipe #3\n",
      "---------\n",
      "\n",
      "🥕\n",
      "\n",
      "  • blade huk roast or onion died meaty soup bones parsley hopped water love garli mined salt eow maaroni sm onion n tomato paste elery leaves oaola bay leaf olive oil slies baon died worestershire saue kidney beans italian seasoning green beans freshhopped salt elery died blak pepper green peas parmesan heese uhini thinly slied grated arro thinly slied\n",
      "\n",
      "📝\n",
      "\n",
      "  ▪︎ in a large pan  plae the meat  water  salt  small onion  elery leaves  and bay leaf  over and simmer about 212 hours until the meat is tender  remove the meat  strain the broth lrb should measure 2 quar rrb  disard the fat  in a 5 to 6 quart kettle or duth oven  ombine the beef broth and the meat  plae over low heat while preparing the rest of the ingredien  panfry the baon until risp  add the baon and the drippings and all the remaining ingredien  exept parmesan heese  to the broth  over and simmer about 30 minutes  until the vegetables and maaroni are tender  serve sprinkled with parmesan heese  if desired\n",
      "\n",
      "\n",
      "\n"
     ]
    }
   ],
   "source": [
    "for recipe_index, recipe_string in enumerate(train_dataset_stringified[:3]):\n",
    "    print('Recipe #{}\\n---------'.format(recipe_index + 1))\n",
    "    print(recipe_string)\n",
    "    print('\\n')"
   ]
  },
  {
   "cell_type": "markdown",
   "id": "f394e5af",
   "metadata": {},
   "source": [
    "# PROCESSING THE DEV DATA"
   ]
  },
  {
   "cell_type": "code",
   "execution_count": 56,
   "id": "2c633bcb",
   "metadata": {},
   "outputs": [
    {
     "name": "stdout",
     "output_type": "stream",
     "text": [
      "Successfully merged the MMF files into training_set/merged_file_dev.mmf.\n",
      "Total number of recipes: 846\n"
     ]
    }
   ],
   "source": [
    "### PROCESSING DEV DATA TO PUT IT ALL IN ONE FILE CALLED MERGED_FILE_DEV.MMF\n",
    "\n",
    "dev_folder = os.path.abspath('training_set/dev')\n",
    "source_folders = [dev_folder]\n",
    "\n",
    "# Specify the path of the output merged MMF file\n",
    "output_dev_file = 'training_set/merged_file_dev.mmf'\n",
    "\n",
    "# Initialize the recipe count\n",
    "recipe_count = 0\n",
    "\n",
    "# Open the output file in write mode\n",
    "with open(output_dev_file, 'w') as outfile:\n",
    "    # Iterate through each source folder\n",
    "    for source_folder in source_folders:\n",
    "        # Iterate through all files in the source folder\n",
    "        for filename in os.listdir(source_folder):\n",
    "            if filename.endswith('.mmf'):\n",
    "                file_path = os.path.join(source_folder, filename)\n",
    "                # Read the content of each MMF file\n",
    "                with open(file_path, 'r') as infile:\n",
    "                    # Initialize an empty dictionary for each recipe object\n",
    "                    recipe = {}\n",
    "                    # Flag to indicate if the ingredients section has been encountered\n",
    "                    ingredients_section = False\n",
    "\n",
    "                    # Iterate through each line in the MMF file\n",
    "                    for line in infile:\n",
    "                        line = line.strip()  # Remove leading/trailing white space\n",
    "\n",
    "                        if not line:  # Skip empty lines\n",
    "                            continue\n",
    "\n",
    "                        if line.endswith('END RECIPE'):\n",
    "                            # End of recipe, write the recipe object to the output file\n",
    "                            outfile.write('Title: ' + recipe['Title'] + '\\n')\n",
    "                            outfile.write('categories: ' + recipe['categories'] + '\\n')\n",
    "                            outfile.write('servings: ' + recipe['servings'] + '\\n')\n",
    "                            outfile.write('ingredients: ' + recipe['ingredients'] + '\\n')\n",
    "                            if 'instructions' in recipe:\n",
    "                                outfile.write('instructions: ' + str(recipe['instructions']) + '\\n')\n",
    "                            else:\n",
    "                                outfile.write('instructions: \\n')\n",
    "                            outfile.write('\\n')\n",
    "                            recipe = {}  # Reset the recipe dictionary for the next recipe\n",
    "                            recipe_count += 1\n",
    "                            ingredients_section = False  # Reset the ingredients section flag\n",
    "                        elif line == 'ingredients:':\n",
    "                            # Start of the ingredients section\n",
    "                            ingredients_section = True\n",
    "                        elif ':' in line and not ingredients_section:\n",
    "                            # Split the line into key and value\n",
    "                            key, value = line.split(':', 1)\n",
    "                            key = key.strip()  # Remove leading/trailing white space\n",
    "                            value = value.strip()  # Remove leading/trailing white space\n",
    "                            recipe[key] = value  # Add the key-value pair to the recipe dictionary\n",
    "                        else:\n",
    "                            # Handle lines without a colon or within the ingredients section\n",
    "                               # Handle lines without a colon or within the ingredients section\n",
    "                            if 'instructions' not in recipe:\n",
    "                                recipe['instructions'] = ''\n",
    "                            recipe['instructions'] += line.strip() + ' '\n",
    "                    # Increment the recipe count after processing each file\n",
    "                    recipe_count += 1\n",
    "\n",
    "print(f\"Successfully merged the MMF files into {output_dev_file}.\")\n",
    "print('Total number of recipes:', recipe_count)"
   ]
  },
  {
   "cell_type": "code",
   "execution_count": 57,
   "id": "cfc661bd",
   "metadata": {},
   "outputs": [],
   "source": [
    "#### CLEANING THE DATA ###\n",
    "output_dev_file = os.path.abspath('training_set/merged_file_dev.mmf')\n",
    "\n",
    "# Read the content of the merged MMF file\n",
    "with open(output_dev_file, 'r') as merged_file:\n",
    "    merged_content = merged_file.read()\n",
    "\n",
    "# Split the content into individual recipe objects\n",
    "dev_recipes = merged_content.split('\\n\\n')\n",
    "\n",
    "# Parse each recipe string into a dictionary and clean ingredients and instructions\n",
    "dev_parsed_recipes = [parse_recipe(recipe) for recipe in dev_recipes]"
   ]
  },
  {
   "cell_type": "code",
   "execution_count": 58,
   "id": "28d9fe8a",
   "metadata": {},
   "outputs": [
    {
     "name": "stdout",
     "output_type": "stream",
     "text": [
      "ingredients: mini marshmallows peanut butter margarine rie hex orn hex m  ms\n",
      "instructions: grease a 9 x 13 pan  in a mirowave safe bowl  mirowave marshmallows  peanut butter and margarine for two minutes or until melted  stir until smooth  add ereal and m  m s  stirring to oat all piees  spread mixture in prepared pan and press dowm slightly with the bak of a buttered spoon  regrigerate for one hour  pull piees from pan or ut into squares \n"
     ]
    }
   ],
   "source": [
    "# Get a recipe from the parsed_recipes list\n",
    "dev_recipe = dev_parsed_recipes[130] if dev_parsed_recipes else None\n",
    "print_parsed_recipe(dev_recipe)"
   ]
  },
  {
   "cell_type": "code",
   "execution_count": 59,
   "id": "3f2fe69c",
   "metadata": {},
   "outputs": [
    {
     "name": "stdout",
     "output_type": "stream",
     "text": [
      "Dataset size AFTER validation 710\n"
     ]
    }
   ],
   "source": [
    "#This is making sure the each recipe used for training has the required data\n",
    "dev_dataset_validated = [recipe for recipe in dev_parsed_recipes if recipe_validate_required_fields(recipe)]\n",
    "print('Dataset size AFTER validation', len(dev_dataset_validated))"
   ]
  },
  {
   "cell_type": "code",
   "execution_count": 60,
   "id": "dc5b975d",
   "metadata": {},
   "outputs": [
    {
     "name": "stdout",
     "output_type": "stream",
     "text": [
      "Stringified dataset size:  710\n"
     ]
    }
   ],
   "source": [
    "# Function to stringify the recipes and remove noise words\n",
    "dev_dataset_stringified = [recipe_to_string(recipe) for recipe in dev_dataset_validated]\n",
    "print('Stringified dataset size: ', len(dev_dataset_stringified))"
   ]
  },
  {
   "cell_type": "code",
   "execution_count": 61,
   "id": "19038b89",
   "metadata": {},
   "outputs": [
    {
     "name": "stdout",
     "output_type": "stream",
     "text": [
      "Recipe #1\n",
      "---------\n",
      "\n",
      "🥕\n",
      "\n",
      "  • sugar unbleahed flour salt instant nonfat dry milk\n",
      "\n",
      "📝\n",
      "\n",
      "  ▪︎ ombine all ingredien in a large bowl  mix well  put in a large airtight ontainer and label as pudding and pie mix  store in a ool  dry plae and use within 6 to 8 months\n",
      "\n",
      "\n",
      "\n",
      "Recipe #2\n",
      "---------\n",
      "\n",
      "🥕\n",
      "\n",
      "  • sugar paprika dry mustard salt onion powder\n",
      "\n",
      "📝\n",
      "\n",
      "  ▪︎ ombine all ingredien in a small bowl  stir until well blended  put mixture in a foil paket or 1pint glass jar and label as frenh dressing mix  stor in a ool  dry plae and use within 6 months\n",
      "\n",
      "\n",
      "\n",
      "Recipe #3\n",
      "---------\n",
      "\n",
      "🥕\n",
      "\n",
      "  • brown sugar firmly paked unbleahed flour innamon or to taste nutmeg butter or margarine\n",
      "\n",
      "📝\n",
      "\n",
      "  ▪︎ in a medium bowl  ombine brown sugar  flour and spies  blend well  with a pastry blender ut in butter or margarine until mixture is very fine  put in a 1quart airtight ontainer and label as rumb topping mix  store in the refregator and use within 1 to 2 months\n",
      "\n",
      "\n",
      "\n"
     ]
    }
   ],
   "source": [
    "for recipe_index, recipe_string in enumerate(dev_dataset_stringified[:3]):\n",
    "    print('Recipe #{}\\n---------'.format(recipe_index + 1))\n",
    "    print(recipe_string)\n",
    "    print('\\n')"
   ]
  },
  {
   "cell_type": "markdown",
   "id": "a6b7e3a5",
   "metadata": {},
   "source": [
    "# PROCESSING THE TEST DATA"
   ]
  },
  {
   "cell_type": "code",
   "execution_count": 62,
   "id": "b5abae30",
   "metadata": {},
   "outputs": [
    {
     "name": "stdout",
     "output_type": "stream",
     "text": [
      "Successfully merged the MMF files into test/merged_file_test.mmf.\n",
      "Total number of recipes: 827\n"
     ]
    }
   ],
   "source": [
    "# Specify the path of the output merged MMF file\n",
    "output_test_file = 'test/merged_file_test.mmf'\n",
    "\n",
    "# Initialize the recipe count\n",
    "recipe_count = 0\n",
    "\n",
    "test_folder = os.path.abspath('test') \n",
    "\n",
    "# Define the list of source folders\n",
    "source_folders = [test_folder]\n",
    "\n",
    "# Open the output file in write mode\n",
    "with open(output_test_file, 'w') as outfile:\n",
    "    # Iterate through each source folder\n",
    "    for source_folder in source_folders:\n",
    "        if not os.path.exists(source_folder):  # Check if the folder exists\n",
    "            print(f\"Source folder '{source_folder}' doesn't exist. Skipping...\")\n",
    "            continue\n",
    "\n",
    "        # Iterate through all files in the source folder\n",
    "        for filename in os.listdir(source_folder):\n",
    "            if filename.endswith('.mmf'):\n",
    "                file_path = os.path.join(source_folder, filename)\n",
    "                # Read the content of each MMF file\n",
    "                with open(file_path, 'r') as infile:\n",
    "                    # Initialize an empty dictionary for each recipe object\n",
    "                    recipe = {}\n",
    "                    # Flag to indicate if the ingredients section has been encountered\n",
    "                    ingredients_section = False\n",
    "\n",
    "                    # Iterate through each line in the MMF file\n",
    "                    for line in infile:\n",
    "                        line = line.strip()  # Remove leading/trailing white space\n",
    "\n",
    "                        if not line:  # Skip empty lines\n",
    "                            continue\n",
    "\n",
    "                        if line.endswith('END RECIPE'):\n",
    "                            # End of recipe, write the recipe object to the output file\n",
    "                            outfile.write('Title: ' + recipe['Title'] + '\\n')\n",
    "                            outfile.write('categories: ' + recipe['categories'] + '\\n')\n",
    "                            outfile.write('servings: ' + recipe['servings'] + '\\n')\n",
    "                            outfile.write('ingredients: ' + recipe['ingredients'] + '\\n')\n",
    "                            if 'instructions' in recipe:\n",
    "                                outfile.write('instructions: ' + str(recipe['instructions']) + '\\n')\n",
    "                            else:\n",
    "                                outfile.write('instructions: \\n')\n",
    "                            outfile.write('\\n')\n",
    "                            recipe = {}  # Reset the recipe dictionary for the next recipe\n",
    "                            recipe_count += 1\n",
    "                            ingredients_section = False  # Reset the ingredients section flag\n",
    "                        elif line == 'ingredients:':\n",
    "                            # Start of the ingredients section\n",
    "                            ingredients_section = True\n",
    "                        elif ':' in line and not ingredients_section:\n",
    "                            # Split the line into key and value\n",
    "                            key, value = line.split(':', 1)\n",
    "                            key = key.strip()  # Remove leading/trailing white space\n",
    "                            value = value.strip()  # Remove leading/trailing white space\n",
    "                            recipe[key] = value  # Add the key-value pair to the recipe dictionary\n",
    "                        else:\n",
    "                            # Handle lines without a colon or within the ingredients section\n",
    "                               # Handle lines without a colon or within the ingredients section\n",
    "                            if 'instructions' not in recipe:\n",
    "                                recipe['instructions'] = ''\n",
    "                            recipe['instructions'] += line.strip() + ' '\n",
    "                    # Increment the recipe count after processing each file\n",
    "                    recipe_count += 1\n",
    "\n",
    "print(f\"Successfully merged the MMF files into {output_test_file}.\")\n",
    "print('Total number of recipes:', recipe_count)\n"
   ]
  },
  {
   "cell_type": "code",
   "execution_count": 63,
   "id": "1f736d96",
   "metadata": {},
   "outputs": [],
   "source": [
    "#### CLEANING THE TEST DATA ###\n",
    "output_test_file = os.path.abspath('test/merged_file_test.mmf')\n",
    "\n",
    "# Read the content of the merged MMF file\n",
    "with open(output_test_file, 'r') as merged_file:\n",
    "    merged_content = merged_file.read()\n",
    "\n",
    "# Split the content into individual recipe objects\n",
    "test_recipes = merged_content.split('\\n\\n')\n",
    "\n",
    "# Parse each recipe string into a dictionary and clean ingredients and instructions\n",
    "test_parsed_recipes = [parse_recipe(recipe) for recipe in test_recipes]"
   ]
  },
  {
   "cell_type": "code",
   "execution_count": 64,
   "id": "ae7eefae",
   "metadata": {},
   "outputs": [
    {
     "name": "stdout",
     "output_type": "stream",
     "text": [
      "ingredients: to pakage ream heese softened grated lemon rind hopped nu strawberries well drained and hopped into small piees brown bread or whole wheat rakers\n",
      "instructions: ombine the ream heese and lemon rind  blend in the nu and berries  spread the mixture on top of small piees of bread  ut into rounds or squares  or on rakers \n"
     ]
    }
   ],
   "source": [
    "# Get a recipe from the parsed_recipes list\n",
    "test_recipe = test_parsed_recipes[30] if test_parsed_recipes else None\n",
    "print_parsed_recipe(test_recipe)\n"
   ]
  },
  {
   "cell_type": "code",
   "execution_count": 65,
   "id": "805555f1",
   "metadata": {},
   "outputs": [
    {
     "name": "stdout",
     "output_type": "stream",
     "text": [
      "Dataset size AFTER validation 85135\n"
     ]
    }
   ],
   "source": [
    "#This is making sure the each recipe used for training has the required data\n",
    "test_dataset_validated = [recipe for recipe in test_parsed_recipes if recipe_validate_required_fields(recipe)]\n",
    "print('Dataset size AFTER validation', len(train_dataset_validated))"
   ]
  },
  {
   "cell_type": "code",
   "execution_count": 66,
   "id": "56f03651",
   "metadata": {},
   "outputs": [
    {
     "name": "stdout",
     "output_type": "stream",
     "text": [
      "Stringified dataset size:  690\n"
     ]
    }
   ],
   "source": [
    "# Function to stringify the recipes and remove noise words\n",
    "test_dataset_stringified = [recipe_to_string(recipe) for recipe in test_dataset_validated]\n",
    "print('Stringified dataset size: ', len(test_dataset_stringified))"
   ]
  },
  {
   "cell_type": "code",
   "execution_count": 67,
   "id": "c0e363d2",
   "metadata": {},
   "outputs": [
    {
     "name": "stdout",
     "output_type": "stream",
     "text": [
      "Recipe #1\n",
      "---------\n",
      "\n",
      "🥕\n",
      "\n",
      "  • unbleahed flour whole wheat flour salt baking powder baking soda brown sugar firmly paked vegetable shortening quik rolled oa\n",
      "\n",
      "📝\n",
      "\n",
      "  ▪︎ ombine all ingredien exept the sugar  shortening  and oa in a large bowl  blend well  stir ni brown sugar an mix well  with a pastry blender  ut in shortening until evenly distributed  stir in oa and mix well  put in a large airtight ontainer and label oatmeal ookie mix  store in a ool  dry plae and use within 10 to 12 weeks\n",
      "\n",
      "\n",
      "\n",
      "Recipe #2\n",
      "---------\n",
      "\n",
      "🥕\n",
      "\n",
      "  • heddar heese grated ayenne pepper unsalted butter softened pimientostuffed olives\n",
      "\n",
      "📝\n",
      "\n",
      "  ▪︎ drain olives and pat dry with towels  ombine heese and butter in a bowl  add flour and ayenne and blend until well mixed  drop the dough by tablespoons onto wax paper and wrap or mold eah piee of dough around an olive  overing it ompletely  bake the wrapped olives on a baking sheet in the middle of a preheated 400f oven for 15 minutes or until golden  serve warm\n",
      "\n",
      "\n",
      "\n",
      "Recipe #3\n",
      "---------\n",
      "\n",
      "🥕\n",
      "\n",
      "  • ea hiken breast halves egg bread rumbs butter spaghetti saue mzarella heese parmesan heese parsley\n",
      "\n",
      "📝\n",
      "\n",
      "  ▪︎ remove the skin from hiken breas slightly beat the eggs shred the mzarella heese grate the parmesan heese hop the parsley using palm of hand flatten hiken to even thikness  dip hiken into egg then into rumbs to oat  in skillet over medium heat  in hot margarine  brown hiken on both sides  add spaghetti saue  redue heat  over and simmer for 10 minutes  sprinkle with heeses and parsley  over  simmer for 5 minutes or until heese mel\n",
      "\n",
      "\n",
      "\n"
     ]
    }
   ],
   "source": [
    "for recipe_index, recipe_string in enumerate(test_dataset_stringified[:3]):\n",
    "    print('Recipe #{}\\n---------'.format(recipe_index + 1))\n",
    "    print(recipe_string)\n",
    "    print('\\n')"
   ]
  },
  {
   "cell_type": "code",
   "execution_count": 68,
   "id": "b25c9a8f",
   "metadata": {
    "scrolled": true
   },
   "outputs": [
    {
     "data": {
      "image/png": "[encoded data removed]",
      "text/plain": [
       "<Figure size 640x480 with 1 Axes>"
      ]
     },
     "metadata": {},
     "output_type": "display_data"
    }
   ],
   "source": [
    "recipes_lengths = []\n",
    "for recipe_text in train_dataset_stringified:\n",
    "    recipes_lengths.append(len(recipe_text))\n",
    "plt.hist(recipes_lengths, bins=50)\n",
    "plt.show()"
   ]
  },
  {
   "cell_type": "code",
   "execution_count": 69,
   "id": "20f0506e",
   "metadata": {},
   "outputs": [],
   "source": [
    "MAX_RECIPE_LENGTH = 150"
   ]
  },
  {
   "cell_type": "code",
   "execution_count": 70,
   "id": "a5291bcc",
   "metadata": {},
   "outputs": [
    {
     "name": "stdout",
     "output_type": "stream",
     "text": [
      "Train Dataset size AFTER filtering:  1429\n",
      "Test Dataset size AFTER filtering:  16\n",
      "Dev Dataset size AFTER filtering:  13\n"
     ]
    }
   ],
   "source": [
    "def filter_recipes_by_length(recipe_test):\n",
    "    return len(recipe_test) <= MAX_RECIPE_LENGTH \n",
    "train_dataset_filtered = [recipe_text for recipe_text in train_dataset_stringified if filter_recipes_by_length(recipe_text)]\n",
    "test_dataset_filtered = [recipe_text for recipe_text in test_dataset_stringified if filter_recipes_by_length(recipe_text)]\n",
    "dev_dataset_filtered = [recipe_text for recipe_text in dev_dataset_stringified if filter_recipes_by_length(recipe_text)]\n",
    "\n",
    "print('Train Dataset size AFTER filtering: ', len(train_dataset_filtered))\n",
    "print('Test Dataset size AFTER filtering: ', len(test_dataset_filtered))\n",
    "print('Dev Dataset size AFTER filtering: ', len(dev_dataset_filtered))\n"
   ]
  },
  {
   "cell_type": "markdown",
   "id": "639a34fb",
   "metadata": {},
   "source": [
    "# TOKENIZE THE TRAIN DATA"
   ]
  },
  {
   "cell_type": "code",
   "execution_count": 72,
   "id": "74584cb3",
   "metadata": {},
   "outputs": [],
   "source": [
    "# Define 🥕 and 📝 symbols\n",
    "INGREDIENTS_START = '🥕'\n",
    "INSTRUCTIONS_START = '📝'\n",
    "\n",
    "# Split ingredients and instructions using 🥕 and 📝 as delimiters\n",
    "train_ingredients = [INGREDIENTS_START + recipe.split(INSTRUCTIONS_START)[0].strip() for recipe in train_dataset_stringified]\n",
    "train_instructions = [INSTRUCTIONS_START + recipe.split(INSTRUCTIONS_START)[1].strip() for recipe in train_dataset_stringified]\n",
    "\n",
    "# Tokenize the train recipe text\n",
    "train_tokenizer = Tokenizer(filters='\\n')\n",
    "train_tokenizer.fit_on_texts(train_dataset_filtered)\n",
    "\n",
    "train_ingredients_sequences = train_tokenizer.texts_to_sequences(train_ingredients)\n",
    "train_instructions_sequences = train_tokenizer.texts_to_sequences(train_instructions)\n",
    "\n",
    "# Pad the sequences\n",
    "train_ingredients_padded = pad_sequences(train_ingredients_sequences, maxlen=MAX_RECIPE_LENGTH, padding='post')\n",
    "train_instructions_padded = pad_sequences(train_instructions_sequences, maxlen=MAX_RECIPE_LENGTH, padding='post')\n",
    "\n",
    "#Input and Output data\n",
    "train_encoder_input_data = train_ingredients_padded\n",
    "train_decoder_input_data = np.hstack((np.ones((train_instructions_padded.shape[0], 1)), train_instructions_padded[:, :-1]))\n",
    "train_decoder_output_data = train_instructions_padded\n"
   ]
  },
  {
   "cell_type": "code",
   "execution_count": 73,
   "id": "f1e3a5fc",
   "metadata": {},
   "outputs": [
    {
     "name": "stdout",
     "output_type": "stream",
     "text": [
      "Decoded Ingredients:\n",
      " • vegetable oil milk salt pn nutmeg pn pepper ea egg yolks lightly beaten parmesan heese grated butter semolina flour\n",
      "Decoded Instructions:\n",
      " 🥕 bottom of 15 x 10 x 1 inh pan with aluminum foil oil the foil heat milk salt nutmeg and pepper in heavy 3 quart sauepan over medium high heat just to redue heat to medium low or stirring add egg yolks 34 up of the heese and 2 of the butter to semolina mixture stir until butter is melted and mixture is smooth mixture to prepared pan pat out with to 38 inh thik refrigerate until old at least 1 hour heat oven to 425 degrees turn mixture out of pan onto flat surfae peel off foil ut out of mixture with 2 inh round utter in 10 inh shallow baking dish melt remaining 4 tablespoon butter in small sauepan drizzle melted\n"
     ]
    }
   ],
   "source": [
    "# Function to decode sequence so l can confirm the output data\n",
    "def decode_sequence(input_sequence, tokenizer):\n",
    "    decoded_text = tokenizer.sequences_to_texts(input_sequence)[0]\n",
    "    return decoded_text\n",
    "\n",
    "# Select an example index\n",
    "example_index = 456\n",
    "\n",
    "# Decode the dev_encoder_input_data and dev_decoder_input_data sequences\n",
    "decoded_train_ingredients = decode_sequence(train_encoder_input_data[example_index].reshape(1, -1), train_tokenizer)\n",
    "decoded_train_instructions = decode_sequence(train_decoder_input_data[example_index].reshape(1, -1), train_tokenizer)\n",
    "\n",
    "# Print the decoded ingredients and instructions\n",
    "print(\"Decoded Ingredients:\\n\", decoded_train_ingredients)\n",
    "print(\"Decoded Instructions:\\n\", decoded_train_instructions)"
   ]
  },
  {
   "cell_type": "markdown",
   "id": "997881f7",
   "metadata": {},
   "source": [
    "# TOKENIZE THE DEV DATA"
   ]
  },
  {
   "cell_type": "code",
   "execution_count": 74,
   "id": "3a0fee48",
   "metadata": {},
   "outputs": [],
   "source": [
    "# Define 🥕 and 📝 symbols\n",
    "INGREDIENTS_START = '🥕'\n",
    "INSTRUCTIONS_START = '📝'\n",
    "\n",
    "# Split ingredients and instructions using 🥕 and 📝 as delimiters\n",
    "dev_ingredients = [INGREDIENTS_START + recipe.split(INSTRUCTIONS_START)[0].strip() for recipe in dev_dataset_stringified]\n",
    "dev_instructions = [INSTRUCTIONS_START + recipe.split(INSTRUCTIONS_START)[1].strip() for recipe in dev_dataset_stringified]\n",
    "\n",
    "# Tokenize the train recipe text\n",
    "dev_tokenizer = Tokenizer(filters='\\n')\n",
    "dev_tokenizer.fit_on_texts(dev_dataset_filtered)\n",
    "\n",
    "dev_ingredients_sequences = dev_tokenizer.texts_to_sequences(dev_ingredients)\n",
    "dev_instructions_sequences = dev_tokenizer.texts_to_sequences(dev_instructions)\n",
    "\n",
    "# Pad the sequences\n",
    "dev_ingredients_padded = pad_sequences(dev_ingredients_sequences, maxlen=MAX_RECIPE_LENGTH, padding='post')\n",
    "dev_instructions_padded = pad_sequences(dev_instructions_sequences, maxlen=MAX_RECIPE_LENGTH, padding='post')\n",
    "\n",
    "#Input and Output data\n",
    "dev_encoder_input_data = dev_ingredients_padded\n",
    "dev_decoder_input_data = np.hstack((np.ones((dev_instructions_padded.shape[0], 1)), dev_instructions_padded[:, :-1]))\n",
    "dev_decoder_output_data = dev_instructions_padded\n"
   ]
  },
  {
   "cell_type": "code",
   "execution_count": 75,
   "id": "d092c646",
   "metadata": {
    "scrolled": false
   },
   "outputs": [
    {
     "name": "stdout",
     "output_type": "stream",
     "text": [
      "Decoded Ingredients:\n",
      " • and tomato oil to a juie of lemon mined parsley salt and pepper to taste hot pepper saue and\n",
      "Decoded Instructions:\n",
      " 🥕 sour ream or in a or a to in a bowl the tomato and oil with lemon juie to the the lemon juie and parsley to the tomato stir to mix well season to taste with salt and pepper and a of drops of hot pepper saue several serving at serving taste soup for into bowl and with and sour ream hot pepper saue to\n"
     ]
    }
   ],
   "source": [
    "# decode sequence so l can confirm the output data\n",
    "# Select an example index (you can change this to any other index you want to check)\n",
    "example_index = 9\n",
    "\n",
    "# Decode the dev_encoder_input_data and dev_decoder_input_data sequences\n",
    "decoded_dev_ingredients = decode_sequence(dev_encoder_input_data[example_index].reshape(1, -1), dev_tokenizer)\n",
    "decoded_dev_instructions = decode_sequence(dev_decoder_input_data[example_index].reshape(1, -1), dev_tokenizer)\n",
    "\n",
    "# Print the decoded ingredients and instructions\n",
    "print(\"Decoded Ingredients:\\n\", decoded_dev_ingredients)\n",
    "print(\"Decoded Instructions:\\n\", decoded_dev_instructions)\n"
   ]
  },
  {
   "cell_type": "markdown",
   "id": "0a8367b7",
   "metadata": {},
   "source": [
    "# TOKENIZE THE TEST DATA"
   ]
  },
  {
   "cell_type": "code",
   "execution_count": 76,
   "id": "35d1b9d5",
   "metadata": {},
   "outputs": [],
   "source": [
    "# Define 🥕 and 📝 symbols\n",
    "INGREDIENTS_START = '🥕'\n",
    "INSTRUCTIONS_START = '📝'\n",
    "\n",
    "# Split ingredients and instructions using 🥕 and 📝 as delimiters\n",
    "test_ingredients = [INGREDIENTS_START + recipe.split(INSTRUCTIONS_START)[0].strip() for recipe in test_dataset_stringified]\n",
    "test_instructions = [INSTRUCTIONS_START + recipe.split(INSTRUCTIONS_START)[1].strip() for recipe in test_dataset_stringified]\n",
    "\n",
    "\n",
    "# Tokenize the train recipe text\n",
    "test_tokenizer = Tokenizer(filters='\\n')\n",
    "test_tokenizer.fit_on_texts(test_dataset_filtered)\n",
    "\n",
    "test_ingredients_sequences = test_tokenizer.texts_to_sequences(test_ingredients)\n",
    "test_instructions_sequences = test_tokenizer.texts_to_sequences(test_instructions)\n",
    "\n",
    "# Pad the sequences\n",
    "\n",
    "test_ingredients_padded = pad_sequences(test_ingredients_sequences, maxlen=MAX_RECIPE_LENGTH, padding='post')\n",
    "test_instructions_padded = pad_sequences(test_instructions_sequences, maxlen=MAX_RECIPE_LENGTH, padding='post')\n",
    "\n",
    "#Input and Output data\n",
    "test_encoder_input_data = test_ingredients_padded\n",
    "test_decoder_input_data = np.hstack((np.ones((test_instructions_padded.shape[0], 1)), test_instructions_padded[:, :-1]))\n",
    "test_decoder_output_data = test_instructions_padded"
   ]
  },
  {
   "cell_type": "code",
   "execution_count": 77,
   "id": "f8cfdc0e",
   "metadata": {},
   "outputs": [
    {
     "name": "stdout",
     "output_type": "stream",
     "text": [
      "Decoded Ingredients:\n",
      " • baking salt milk butter\n",
      "Decoded Instructions:\n",
      " 🥕 ombine baking and salt ut in until and milk until dry into 12 plae on a bake for and bake serve with butter\n"
     ]
    }
   ],
   "source": [
    "# decode sequence so l can confirm the output data\n",
    "# Select an example index\n",
    "example_index = 78\n",
    "\n",
    "# Decode the dev_encoder_input_data and dev_decoder_input_data sequences\n",
    "decoded_test_ingredients = decode_sequence(test_encoder_input_data[example_index].reshape(1, -1), test_tokenizer)\n",
    "decoded_test_instructions = decode_sequence(test_decoder_input_data[example_index].reshape(1, -1), test_tokenizer)\n",
    "\n",
    "# Print the decoded ingredients and instructions\n",
    "print(\"Decoded Ingredients:\\n\", decoded_test_ingredients)\n",
    "print(\"Decoded Instructions:\\n\", decoded_test_instructions)"
   ]
  },
  {
   "cell_type": "markdown",
   "id": "f472b6f6",
   "metadata": {},
   "source": [
    "# BUILD THE MODEL"
   ]
  },
  {
   "cell_type": "code",
   "execution_count": 29,
   "id": "2156e4f1",
   "metadata": {},
   "outputs": [
    {
     "name": "stdout",
     "output_type": "stream",
     "text": [
      "2582\n"
     ]
    }
   ],
   "source": [
    "# Model architecture\n",
    "vocab_size = len(train_tokenizer.word_index) + 1\n",
    "hidden_size = 256\n",
    "\n",
    "print(vocab_size)"
   ]
  },
  {
   "cell_type": "code",
   "execution_count": 30,
   "id": "63598f46",
   "metadata": {},
   "outputs": [],
   "source": [
    "\n",
    "# Encoder\n",
    "encoder_input = tf.keras.layers.Input(shape=(MAX_RECIPE_LENGTH,))\n",
    "encoder_embedding = Embedding(input_dim=vocab_size, output_dim=hidden_size)(encoder_input)\n",
    "encoder_lstm = LSTM(hidden_size, return_sequences=True, dropout=0.1, return_state=True)\n",
    "encoder_output, state_h, state_c = encoder_lstm(encoder_embedding)\n",
    "\n",
    "# Decoder\n",
    "decoder_input = tf.keras.layers.Input(shape=(MAX_RECIPE_LENGTH,))\n",
    "decoder_embedding = Embedding(input_dim=vocab_size, output_dim=hidden_size)(decoder_input)\n",
    "decoder_lstm = LSTM(hidden_size, return_sequences=True, dropout=0.1, return_state=True)\n",
    "decoder_output, _, _ = decoder_lstm(decoder_embedding, initial_state=[state_h, state_c])\n",
    "\n",
    "# Attention layer\n",
    "attention = tf.keras.layers.Attention()\n",
    "context_vector = attention([decoder_output, encoder_output])\n",
    "\n",
    "# Concatenate context vector and decoder output\n",
    "decoder_combined_context = tf.keras.layers.concatenate([context_vector, decoder_output])\n",
    "\n",
    "# Final output layer\n",
    "output = Dense(vocab_size, activation='softmax')\n",
    "decoder_pred = output(decoder_combined_context)\n",
    "\n",
    "#Early Stopping\n",
    "early_stopping = EarlyStopping(patience=5, restore_best_weights=True)\n",
    "\n",
    "# Define the model\n",
    "model = Model(inputs=[encoder_input, decoder_input], outputs=decoder_pred)\n",
    "\n",
    "# Compile the model\n",
    "model.compile(optimizer='adam', loss='sparse_categorical_crossentropy')\n"
   ]
  },
  {
   "cell_type": "code",
   "execution_count": 31,
   "id": "359e4bf8",
   "metadata": {
    "scrolled": true
   },
   "outputs": [
    {
     "name": "stdout",
     "output_type": "stream",
     "text": [
      "Epoch 1/40\n",
      "3/3 [==============================] - 11s 3s/step - loss: 7.7421 - val_loss: 7.3386\n",
      "Epoch 2/40\n",
      "3/3 [==============================] - 8s 3s/step - loss: 6.4659 - val_loss: 3.9394\n",
      "Epoch 3/40\n",
      "3/3 [==============================] - 8s 3s/step - loss: 3.0081 - val_loss: 2.1534\n",
      "Epoch 4/40\n",
      "3/3 [==============================] - 8s 3s/step - loss: 1.7409 - val_loss: 2.1573\n",
      "Epoch 5/40\n",
      "3/3 [==============================] - 8s 3s/step - loss: 1.6301 - val_loss: 2.1637\n",
      "Epoch 6/40\n",
      "3/3 [==============================] - 8s 3s/step - loss: 1.4840 - val_loss: 2.1044\n",
      "Epoch 7/40\n",
      "3/3 [==============================] - 8s 3s/step - loss: 1.3924 - val_loss: 2.1393\n",
      "Epoch 8/40\n",
      "3/3 [==============================] - 8s 3s/step - loss: 1.3768 - val_loss: 2.0784\n",
      "Epoch 9/40\n",
      "3/3 [==============================] - 8s 3s/step - loss: 1.3109 - val_loss: 1.9798\n",
      "Epoch 10/40\n",
      "3/3 [==============================] - 8s 3s/step - loss: 1.2575 - val_loss: 1.9127\n",
      "Epoch 11/40\n",
      "3/3 [==============================] - 8s 3s/step - loss: 1.2316 - val_loss: 1.8642\n",
      "Epoch 12/40\n",
      "3/3 [==============================] - 8s 3s/step - loss: 1.2198 - val_loss: 1.8374\n",
      "Epoch 13/40\n",
      "3/3 [==============================] - 8s 3s/step - loss: 1.2120 - val_loss: 1.8254\n",
      "Epoch 14/40\n",
      "3/3 [==============================] - 8s 3s/step - loss: 1.1975 - val_loss: 1.8268\n",
      "Epoch 15/40\n",
      "3/3 [==============================] - 8s 3s/step - loss: 1.1756 - val_loss: 1.8114\n",
      "Epoch 16/40\n",
      "3/3 [==============================] - 8s 3s/step - loss: 1.1936 - val_loss: 1.9665\n",
      "Epoch 17/40\n",
      "3/3 [==============================] - 8s 3s/step - loss: 1.2653 - val_loss: 1.9801\n",
      "Epoch 18/40\n",
      "3/3 [==============================] - 8s 3s/step - loss: 1.2408 - val_loss: 1.9337\n",
      "Epoch 19/40\n",
      "3/3 [==============================] - 8s 3s/step - loss: 1.1980 - val_loss: 1.8986\n",
      "Epoch 20/40\n",
      "3/3 [==============================] - 8s 3s/step - loss: 1.1752 - val_loss: 1.8661\n",
      "Total dev training time: 170.75 seconds\n"
     ]
    }
   ],
   "source": [
    "start_time = time.time()\n",
    "# Train the model using train dataset\n",
    "dev_attention_model = model.fit(\n",
    "                    [dev_encoder_input_data, dev_decoder_input_data],\n",
    "                    np.expand_dims(dev_decoder_output_data , axis=-1),\n",
    "                    batch_size=256,\n",
    "                    epochs=40, \n",
    "                    validation_data=([test_encoder_input_data, test_decoder_input_data], \n",
    "                    np.expand_dims(test_decoder_output_data, axis=-1)),\n",
    "                    callbacks=[early_stopping]\n",
    "                )\n",
    "\n",
    "# End tracking time\n",
    "end_time = time.time()\n",
    "total_time = end_time - start_time\n",
    "print(f\"Total dev training time: {total_time:.2f} seconds\")\n",
    "\n",
    "model_name = ('dev_attention_model.keras')\n",
    "model.save(model_name)"
   ]
  },
  {
   "cell_type": "markdown",
   "id": "ebd127c5",
   "metadata": {},
   "source": [
    "# PLOT WITH DEV DATA"
   ]
  },
  {
   "cell_type": "code",
   "execution_count": 32,
   "id": "1bd91c2b",
   "metadata": {},
   "outputs": [
    {
     "data": {
      "image/png": "[encoded data removed]",
      "text/plain": [
       "<Figure size 640x480 with 1 Axes>"
      ]
     },
     "metadata": {},
     "output_type": "display_data"
    }
   ],
   "source": [
    "\n",
    "# Function to plot training history\n",
    "def render_training_history(training_history):\n",
    "    loss = training_history.history['loss']\n",
    "    val_loss = training_history.history['val_loss']  # Validation loss\n",
    "    \n",
    "    plt.title('Dev Data Training Loss')\n",
    "    plt.xlabel('Epoch')\n",
    "    plt.ylabel('Loss')\n",
    "    plt.plot(loss, label='Training Loss')\n",
    "    plt.plot(val_loss, label='Validation Loss')\n",
    "    plt.legend()\n",
    "    plt.grid(linestyle='--', linewidth=1, alpha=0.5)\n",
    "    \n",
    "    # Set the y-axis limits to the desired range (e.g., from -1 to 0)\n",
    "    min_loss = min(min(loss), min(val_loss))\n",
    "    max_loss = max(max(loss), max(val_loss))\n",
    "    \n",
    "    # Set the y-axis limits to the minimum and maximum loss values\n",
    "    plt.ylim(min_loss, max_loss)\n",
    "    plt.show()\n",
    "    \n",
    "# Plot the training history\n",
    "render_training_history(dev_attention_model)"
   ]
  },
  {
   "cell_type": "code",
   "execution_count": 33,
   "id": "005b457c",
   "metadata": {
    "scrolled": true
   },
   "outputs": [
    {
     "name": "stdout",
     "output_type": "stream",
     "text": [
      "Epoch 1/40\n",
      "333/333 [==============================] - 699s 2s/step - loss: 2.8609 - val_loss: 1.4563\n",
      "Epoch 2/40\n",
      "333/333 [==============================] - 699s 2s/step - loss: 2.3109 - val_loss: 1.5710\n",
      "Epoch 3/40\n",
      "333/333 [==============================] - 699s 2s/step - loss: 1.9775 - val_loss: 1.6446\n",
      "Epoch 4/40\n",
      "333/333 [==============================] - 699s 2s/step - loss: 1.8386 - val_loss: 1.6857\n",
      "Epoch 5/40\n",
      "333/333 [==============================] - 700s 2s/step - loss: 1.7524 - val_loss: 1.6956\n",
      "Epoch 6/40\n",
      "333/333 [==============================] - 702s 2s/step - loss: 1.6904 - val_loss: 1.7167\n",
      "Total training time: 4197.56 seconds\n"
     ]
    }
   ],
   "source": [
    "start_time = time.time()\n",
    "# Train the model\n",
    "train_attention_model = model.fit(\n",
    "                    [train_encoder_input_data, train_decoder_input_data],\n",
    "                    np.expand_dims(train_decoder_output_data , axis=-1),\n",
    "                    batch_size=256,\n",
    "                    epochs=40, \n",
    "                    validation_data=([test_encoder_input_data, test_decoder_input_data], \n",
    "                    np.expand_dims(test_decoder_output_data, axis=-1)),\n",
    "                    callbacks=[early_stopping]\n",
    "                )\n",
    "\n",
    "# End tracking time\n",
    "end_time = time.time()\n",
    "total_time = end_time - start_time\n",
    "print(f\"Total training time: {total_time:.2f} seconds\")\n",
    "\n",
    "model_name = ('train_attention_model.keras')\n",
    "model.save(model_name)"
   ]
  },
  {
   "cell_type": "markdown",
   "id": "066680fb",
   "metadata": {},
   "source": [
    "# PLOT WITH TRAIN DATA"
   ]
  },
  {
   "cell_type": "code",
   "execution_count": 34,
   "id": "f45798c5",
   "metadata": {
    "scrolled": false
   },
   "outputs": [
    {
     "data": {
      "image/png": "[encoded data removed]",
      "text/plain": [
       "<Figure size 640x480 with 1 Axes>"
      ]
     },
     "metadata": {},
     "output_type": "display_data"
    }
   ],
   "source": [
    "\n",
    "# Function to plot training history\n",
    "def render_training_history(training_history):\n",
    "    loss = training_history.history['loss']\n",
    "    val_loss = training_history.history['val_loss']  # Validation loss\n",
    "    \n",
    "    plt.title('Training Data Loss')\n",
    "    plt.xlabel('Epoch')\n",
    "    plt.ylabel('Loss')\n",
    "    plt.plot(loss, label='Training Loss')\n",
    "    plt.plot(val_loss, label='Validation Loss')\n",
    "    plt.legend()\n",
    "    plt.grid(linestyle='--', linewidth=1, alpha=0.5)\n",
    "    \n",
    "    # Set the y-axis limits to the desired range (e.g., from -1 to 0)\n",
    "    min_loss = min(min(loss), min(val_loss)) - 2\n",
    "    max_loss = max(max(loss), max(val_loss)) + 2\n",
    "    \n",
    "    # Set the y-axis limits to the minimum and maximum loss values\n",
    "    plt.ylim(min_loss, max_loss)\n",
    "    plt.show()\n",
    "    \n",
    "render_training_history(train_attention_model)"
   ]
  },
  {
   "cell_type": "code",
   "execution_count": 45,
   "id": "1ad2221e",
   "metadata": {
    "scrolled": true
   },
   "outputs": [
    {
     "data": {
      "image/png": "[encoded data removed]",
      "text/plain": [
       "<Figure size 1000x600 with 1 Axes>"
      ]
     },
     "metadata": {},
     "output_type": "display_data"
    }
   ],
   "source": [
    "# Function to plot training history for multiple models\n",
    "def render_training_history_multi_models(training_histories, model_labels):\n",
    "    plt.figure(figsize=(10, 6))\n",
    "    line_styles = ['-', '--']  # Solid and dashed line styles for training and dev sets\n",
    "    colors = ['blue', 'orange']  # Colors for each model\n",
    "    \n",
    "    for i, training_history in enumerate(training_histories):\n",
    "        loss = training_history.history['loss']\n",
    "        val_loss = training_history.history['val_loss']\n",
    "        epochs = len(loss)\n",
    "        \n",
    "        plt.plot(range(1, epochs + 1), loss, label=f'{model_labels[i]} - Training Loss', color=colors[i], linestyle=line_styles[0])\n",
    "        plt.plot(range(1, epochs + 1), val_loss, label=f'{model_labels[i]} - Validation Loss', color=colors[i], linestyle=line_styles[1])\n",
    "    \n",
    "    plt.title('Combined Plot for Attention Models')\n",
    "    plt.xlabel('Epoch')\n",
    "    plt.ylabel('Loss')\n",
    "    plt.legend()\n",
    "    plt.grid(linestyle='--', linewidth=1, alpha=0.5)\n",
    "    plt.yscale('symlog')\n",
    "    \n",
    "    # Add explicit tick labels on the y-axis\n",
    "    plt.yticks([0.01, 0.1, 1, 10], [0.01, 0.1, 1, 10])\n",
    "    \n",
    "    # Add y-axis values as annotations\n",
    "    for i, training_history in enumerate(training_histories):\n",
    "        loss = training_history.history['loss']\n",
    "        val_loss = training_history.history['val_loss']\n",
    "        epochs = len(loss)\n",
    "        \n",
    "        # Annotate the last value of training loss\n",
    "        plt.annotate(f'{loss[-1]:.4f}', xy=(epochs, loss[-1]), xytext=(-20, 10), textcoords='offset points', color=colors[i])\n",
    "        \n",
    "        # Annotate the last value of validation loss\n",
    "        plt.annotate(f'{val_loss[-1]:.4f}', xy=(epochs, val_loss[-1]), xytext=(-20, 10), textcoords='offset points', color=colors[i])\n",
    "        \n",
    "        # Annotate the minimum value of training loss\n",
    "        min_loss_index = loss.index(min(loss))\n",
    "        plt.annotate(f'Min: {min(loss):.4f}', xy=(min_loss_index + 1, min(loss)), xytext=(-20, -30), textcoords='offset points', color=colors[i])\n",
    "        \n",
    "        # Annotate the minimum value of validation loss\n",
    "        min_val_loss_index = val_loss.index(min(val_loss))\n",
    "        plt.annotate(f'Min: {min(val_loss):.4f}', xy=(min_val_loss_index + 1, min(val_loss)), xytext=(-20, -30), textcoords='offset points', color=colors[i])\n",
    "        \n",
    "        # Annotate the maximum value of training loss\n",
    "        max_loss_index = loss.index(max(loss))\n",
    "        plt.annotate(f'Max: {max(loss):.4f}', xy=(max_loss_index + 1, max(loss)), xytext=(-20, 10), textcoords='offset points', color=colors[i])\n",
    "        \n",
    "        # Annotate the maximum value of validation loss\n",
    "        max_val_loss_index = val_loss.index(max(val_loss))\n",
    "        plt.annotate(f'Max: {max(val_loss):.4f}', xy=(max_val_loss_index + 1, max(val_loss)), xytext=(-20, 10), textcoords='offset points', color=colors[i])\n",
    "    \n",
    "    plt.show()\n",
    "    \n",
    "# Plot the training history for both models\n",
    "render_training_history_multi_models([train_attention_model, dev_attention_model], \n",
    "                                    ['Train Model', 'Dev Model'])"
   ]
  },
  {
   "cell_type": "code",
   "execution_count": 36,
   "id": "00930351",
   "metadata": {
    "scrolled": true
   },
   "outputs": [
    {
     "name": "stdout",
     "output_type": "stream",
     "text": [
      "Model: \"model\"\n",
      "__________________________________________________________________________________________________\n",
      " Layer (type)                Output Shape                 Param #   Connected to                  \n",
      "==================================================================================================\n",
      " input_1 (InputLayer)        [(None, 150)]                0         []                            \n",
      "                                                                                                  \n",
      " input_2 (InputLayer)        [(None, 150)]                0         []                            \n",
      "                                                                                                  \n",
      " embedding (Embedding)       (None, 150, 256)             660992    ['input_1[0][0]']             \n",
      "                                                                                                  \n",
      " embedding_1 (Embedding)     (None, 150, 256)             660992    ['input_2[0][0]']             \n",
      "                                                                                                  \n",
      " lstm (LSTM)                 [(None, 150, 256),           525312    ['embedding[0][0]']           \n",
      "                              (None, 256),                                                        \n",
      "                              (None, 256)]                                                        \n",
      "                                                                                                  \n",
      " lstm_1 (LSTM)               [(None, 150, 256),           525312    ['embedding_1[0][0]',         \n",
      "                              (None, 256),                           'lstm[0][1]',                \n",
      "                              (None, 256)]                           'lstm[0][2]']                \n",
      "                                                                                                  \n",
      " attention (Attention)       (None, 150, 256)             0         ['lstm_1[0][0]',              \n",
      "                                                                     'lstm[0][0]']                \n",
      "                                                                                                  \n",
      " concatenate (Concatenate)   (None, 150, 512)             0         ['attention[0][0]',           \n",
      "                                                                     'lstm_1[0][0]']              \n",
      "                                                                                                  \n",
      " dense (Dense)               (None, 150, 2582)            1324566   ['concatenate[0][0]']         \n",
      "                                                                                                  \n",
      "==================================================================================================\n",
      "Total params: 3697174 (14.10 MB)\n",
      "Trainable params: 3697174 (14.10 MB)\n",
      "Non-trainable params: 0 (0.00 Byte)\n",
      "__________________________________________________________________________________________________\n",
      "None\n"
     ]
    }
   ],
   "source": [
    "# Print the model summary\n",
    "print(model.summary())\n"
   ]
  },
  {
   "cell_type": "markdown",
   "id": "9e7ee02f",
   "metadata": {},
   "source": [
    "# FUNCTION FOR FINAL OUTPUTS"
   ]
  },
  {
   "cell_type": "code",
   "execution_count": 38,
   "id": "8daedc44",
   "metadata": {},
   "outputs": [],
   "source": [
    "#Function to generate text from the model\n",
    "def generate_text(model, input_sequence, tokenizer, teacher_forcing_ratio=1.0):\n",
    "    # Initialize the output sequence with start token and stop token\n",
    "    output_sequence = np.ones((1, MAX_RECIPE_LENGTH))\n",
    "    output_sequence[0, 0] = tokenizer.word_index[STOP_WORD_INSTRUCTIONS.strip()]  # Set the first token as the start token\n",
    "    \n",
    "    for i in range(1, MAX_RECIPE_LENGTH):\n",
    "        if np.random.random() < teacher_forcing_ratio:\n",
    "            # Use teacher forcing with probability 'teacher_forcing_ratio'\n",
    "            # Use the true output sequence as input for the decoder at this time step\n",
    "            predictions = model.predict([input_sequence, output_sequence]).squeeze()\n",
    "            predicted_token_index = np.argmax(predictions[i])\n",
    "        else:\n",
    "            # Use the predicted output from the previous time step as input for the decoder\n",
    "            predicted_token_index = output_sequence[0, i - 1]\n",
    "\n",
    "        output_sequence[0, i] = predicted_token_index\n",
    "\n",
    "        # Check if the predicted_token_index exists in the tokenizer's word index\n",
    "        if predicted_token_index in tokenizer.index_word:\n",
    "            # Convert the token sequence back to text\n",
    "            generated_text = tokenizer.sequences_to_texts(output_sequence)[0]\n",
    "\n",
    "            # Remove the start token and stop token from the generated text\n",
    "            generated_text = generated_text.replace(STOP_WORD_INSTRUCTIONS.strip(), '')\n",
    "            generated_text = generated_text.replace(STOP_WORD_INGREDIENTS.strip(), '')\n",
    "            \n",
    "        else: \n",
    "            break\n",
    "\n",
    "    return generated_text\n"
   ]
  },
  {
   "cell_type": "code",
   "execution_count": 39,
   "id": "1fba07bf",
   "metadata": {},
   "outputs": [],
   "source": [
    "# Function to calculate BLEU Score\n",
    "def calculate_bleu_score(reference_text, generated_text):\n",
    "    reference = [reference_text.split()]\n",
    "    generated = generated_text.split()\n",
    "    bleu_score_value = bleu_score.sentence_bleu(reference, generated)\n",
    "    return bleu_score_value\n",
    "\n",
    "# Function to calculate meteor score\n",
    "def calculate_meteor_score(reference_text, generated_text):\n",
    "    # Tokenize the reference and generated texts\n",
    "    reference_tokens = word_tokenize(reference_text)\n",
    "    generated_tokens = word_tokenize(generated_text)\n",
    "    \n",
    "    return meteor_score.meteor_score([reference_tokens], generated_tokens)\n"
   ]
  },
  {
   "cell_type": "code",
   "execution_count": 40,
   "id": "757dd2ab",
   "metadata": {},
   "outputs": [],
   "source": [
    "#Function to calc output completion and extraneous items\n",
    "def calculate_output_completion_and_extraneous_items(ground_truth_instructions, generated_instructions):\n",
    "    ground_truth_items = set(ground_truth_instructions.split())\n",
    "    generated_items = set(generated_instructions.split())\n",
    "\n",
    "    # Agenda Completion\n",
    "    agenda_completion = len(ground_truth_items.intersection(generated_items)) / len(ground_truth_items)\n",
    "\n",
    "    # Extraneous Items\n",
    "    extraneous_items = len(generated_items.difference(ground_truth_items))\n",
    "    extraneous_items_percentage = (extraneous_items / len(generated_items)) * 100\n",
    "\n",
    "    return agenda_completion, extraneous_items, extraneous_items_percentage\n"
   ]
  },
  {
   "cell_type": "code",
   "execution_count": 41,
   "id": "cbbc4847",
   "metadata": {},
   "outputs": [
    {
     "name": "stdout",
     "output_type": "stream",
     "text": [
      "Decoded Ingredients:\n",
      " • and tomato oil to a juie of lemon mined parsley salt and pepper to taste hot pepper saue and\n",
      "Decoded Instructions:\n",
      " 🥕 sour ream or in a or a to in a bowl the tomato and oil with lemon juie to the the lemon juie and parsley to the tomato stir to mix well season to taste with salt and pepper and a of drops of hot pepper saue several serving at serving taste soup for into bowl and with and sour ream hot pepper saue to\n"
     ]
    }
   ],
   "source": [
    "#  decode sequence so l can confirm the output data\n",
    "# Select an example index\n",
    "example_index = 9\n",
    "\n",
    "# Decode the dev_encoder_input_data and dev_decoder_input_data sequences\n",
    "decoded_dev_ingredients = decode_sequence(dev_encoder_input_data[example_index].reshape(1, -1), dev_tokenizer)\n",
    "decoded_dev_instructions = decode_sequence(dev_decoder_input_data[example_index].reshape(1, -1), dev_tokenizer)\n",
    "\n",
    "# Print the decoded ingredients and instructions\n",
    "print(\"Decoded Ingredients:\\n\", decoded_dev_ingredients)\n",
    "print(\"Decoded Instructions:\\n\", decoded_dev_instructions)"
   ]
  },
  {
   "cell_type": "markdown",
   "id": "4ff0bada",
   "metadata": {},
   "source": [
    "# OUTPUT WITH TRAIN DATA"
   ]
  },
  {
   "cell_type": "code",
   "execution_count": 42,
   "id": "7b303e98",
   "metadata": {
    "scrolled": true
   },
   "outputs": [
    {
     "name": "stdout",
     "output_type": "stream",
     "text": [
      "1/1 [==============================] - 1s 507ms/step\n",
      "1/1 [==============================] - 0s 31ms/step\n",
      "1/1 [==============================] - 0s 31ms/step\n",
      "1/1 [==============================] - 0s 31ms/step\n",
      "1/1 [==============================] - 0s 31ms/step\n",
      "1/1 [==============================] - 0s 31ms/step\n",
      "1/1 [==============================] - 0s 31ms/step\n",
      "Decoded Input Text:\n",
      " • hoolate semisweet marshmallows sugar iing walnu egg beaten butter\n",
      "Instructions:\n",
      "  in and in and and and                                                                                                                                               \n",
      "Ground Truth Instruction: 🥕 melt hoolate add sugar and egg pour over nu and marshmallows form into rolls wrap in wax paper and refrigerate when ool slie into round andies\n",
      "BLEU Score: 0\n",
      "Agenda Completion 0.08333333333333333\n",
      "Extraneous Items: 0\n",
      "Extraneous Items Percentage: 0.0\n",
      "Meteor: 0.0\n"
     ]
    }
   ],
   "source": [
    "# Generation of an instruction \n",
    "input_sequence_1 = train_encoder_input_data[50].reshape(1, -1)\n",
    "\n",
    "train_generated_instructions = generate_text(model, input_sequence_1, train_tokenizer, teacher_forcing_ratio=1.0)\n",
    "\n",
    "# Decode the input_sequence_1 to understand what it represents in text\n",
    "train_decoded_input_text = decode_sequence(input_sequence_1, train_tokenizer)\n",
    "\n",
    "# Find the index of input_sequence_2 in dev_encoder_input_data\n",
    "train_index_of_input_sequence = np.where((train_encoder_input_data == input_sequence_1).all(axis=1))[0][0]\n",
    "\n",
    "# Extracting the instruction related to the ingredients i.e. input_sequence\n",
    "train_ground_truth_instruction = decode_sequence(train_decoder_input_data[train_index_of_input_sequence].reshape(1, -1), train_tokenizer)\n",
    "\n",
    "# Calculate the BLEU score\n",
    "train_bleu_score_value = calculate_bleu_score(train_decoded_input_text, train_generated_instructions)\n",
    "\n",
    "#Calculate the METEOR score\n",
    "train_meteor_score = calculate_meteor_score(train_decoded_input_text, train_generated_instructions)\n",
    "\n",
    "# Calculate the output_completion and extraneous items\n",
    "train_output_completion, train_extraneous_items, train_extraneous_items_percentage = calculate_output_completion_and_extraneous_items(train_ground_truth_instruction, train_generated_instructions)\n",
    "\n",
    "# Print the decoded input text and the generated instructions\n",
    "print(\"Decoded Input Text:\\n\", train_decoded_input_text)\n",
    "print(\"Instructions:\\n\", train_generated_instructions)\n",
    "print(\"Ground Truth Instruction:\", train_ground_truth_instruction)\n",
    "print(\"BLEU Score:\", train_bleu_score_value)\n",
    "print(\"Agenda Completion\", train_output_completion)\n",
    "print(\"Extraneous Items:\", train_extraneous_items)\n",
    "print(\"Extraneous Items Percentage:\", train_extraneous_items_percentage)\n",
    "print(\"Meteor:\", train_meteor_score)"
   ]
  },
  {
   "cell_type": "markdown",
   "id": "dba48932",
   "metadata": {},
   "source": [
    "# OUTPUT WITH DEV DATA"
   ]
  },
  {
   "cell_type": "code",
   "execution_count": 43,
   "id": "a2ed4bd4",
   "metadata": {},
   "outputs": [
    {
     "name": "stdout",
     "output_type": "stream",
     "text": [
      "1/1 [==============================] - 0s 30ms/step\n",
      "1/1 [==============================] - 0s 30ms/step\n",
      "1/1 [==============================] - 0s 30ms/step\n",
      "1/1 [==============================] - 0s 30ms/step\n",
      "1/1 [==============================] - 0s 34ms/step\n",
      "1/1 [==============================] - 0s 30ms/step\n",
      "1/1 [==============================] - 0s 31ms/step\n",
      "Decoded Input Text:\n",
      " • sugar oil eggs well salt flour grated\n",
      "Instructions:\n",
      "  mix saue mix saue saue saue                                                                                                                                               \n",
      "Ground Truth Instruction: 🥕 to degrees and flour or pan mix sugar and oil together eggs and mix well ombine ingredien and stir in mix and pour into pan bake at for for pan a the sugar ream softened butter softened p lemon blend well and spread on\n",
      "BLEU Score: 0\n",
      "Agenda Completion 0.03125\n",
      "Extraneous Items: 1\n",
      "Extraneous Items Percentage: 50.0\n",
      "Meteor: 0.0\n"
     ]
    }
   ],
   "source": [
    "# Generation of an instruction \n",
    "input_sequence_2 = dev_encoder_input_data[50].reshape(1, -1)\n",
    "\n",
    "dev_generated_instructions = generate_text(model, input_sequence_2, dev_tokenizer, teacher_forcing_ratio=1.0)\n",
    "\n",
    "# Decode the input_sequence_1 to understand what it represents in text\n",
    "dev_decoded_input_text = decode_sequence(input_sequence_2, dev_tokenizer)\n",
    "\n",
    "# Find the index of input_sequence_2 in dev_encoder_input_data\n",
    "dev_index_of_input_sequence = np.where((dev_encoder_input_data == input_sequence_2).all(axis=1))[0][0]\n",
    "\n",
    "# Extracting the instruction related to the ingredients i.e. input_sequence\n",
    "dev_ground_truth_instruction = decode_sequence(dev_decoder_input_data[dev_index_of_input_sequence].reshape(1, -1), dev_tokenizer)\n",
    "\n",
    "# Calculate the BLEU score\n",
    "dev_bleu_score_value = calculate_bleu_score(dev_decoded_input_text, dev_generated_instructions)\n",
    "\n",
    "#Calculate the METEOR score\n",
    "dev_meteor_score = calculate_meteor_score(dev_decoded_input_text, dev_generated_instructions)\n",
    "\n",
    "# Calculate the output_completion and extraneous items\n",
    "dev_output_completion, dev_extraneous_items, dev_extraneous_items_percentage = calculate_output_completion_and_extraneous_items(dev_ground_truth_instruction, dev_generated_instructions)\n",
    "\n",
    "# Print the decoded input text and the generated instructions\n",
    "print(\"Decoded Input Text:\\n\", dev_decoded_input_text)\n",
    "print(\"Instructions:\\n\", dev_generated_instructions)\n",
    "print(\"Ground Truth Instruction:\", dev_ground_truth_instruction)\n",
    "print(\"BLEU Score:\", dev_bleu_score_value)\n",
    "print(\"Agenda Completion\", dev_output_completion)\n",
    "print(\"Extraneous Items:\", dev_extraneous_items)\n",
    "print(\"Extraneous Items Percentage:\", dev_extraneous_items_percentage)\n",
    "print(\"Meteor:\", dev_meteor_score)"
   ]
  },
  {
   "cell_type": "markdown",
   "id": "63bc7fe9",
   "metadata": {},
   "source": [
    "# OUTPUT FOR QUANTANTIVE ANALYSIS "
   ]
  },
  {
   "cell_type": "code",
   "execution_count": 44,
   "id": "3c73f60f",
   "metadata": {},
   "outputs": [
    {
     "name": "stdout",
     "output_type": "stream",
     "text": [
      "1/1 [==============================] - 0s 31ms/step\n",
      "1/1 [==============================] - 0s 34ms/step\n",
      "1/1 [==============================] - 0s 33ms/step\n",
      "1/1 [==============================] - 0s 32ms/step\n",
      "1/1 [==============================] - 0s 32ms/step\n",
      "1/1 [==============================] - 0s 32ms/step\n",
      "1/1 [==============================] - 0s 30ms/step\n",
      "1/1 [==============================] - 0s 31ms/step\n",
      "1/1 [==============================] - 0s 30ms/step\n",
      "1/1 [==============================] - 0s 30ms/step\n",
      "1/1 [==============================] - 0s 31ms/step\n",
      "1/1 [==============================] - 0s 31ms/step\n",
      "1/1 [==============================] - 0s 31ms/step\n",
      "1/1 [==============================] - 0s 30ms/step\n",
      "Ingredient 1:  10 oz chopped broccoli, 2 tbsp butter, 2 tbsp flour, 1/2 tsp salt, 1/4 tsp black pepper, 1/4 tsp ground nutmeg, 1 cup milk, 1 1/2 cup shredded Swiss cheese, 2 tsp lemon juice, 2 cups cooked cubed turkey, 4 oz mushrooms, 1/4 cup grated Parmesan cheese, 1 can refrigerated biscuits.\n",
      "Generated Output 1 :  in and in and and and                                                                                                                                               \n",
      "Ingredient 1:  2 lb cream cheese, 1 3/4 cups sugar, 5 eggs, 15 Oreo cookies, 1/2 tsp vanilla, 1/2 tsp almond extract.\n",
      "Generated Output 2 :  in and in and and and                                                                                                                                               \n"
     ]
    }
   ],
   "source": [
    "# Defining the two ingredient samples\n",
    "ingredient1 = \"10 oz chopped broccoli, 2 tbsp butter, 2 tbsp flour, 1/2 tsp salt, 1/4 tsp black pepper, 1/4 tsp ground nutmeg, 1 cup milk, 1 1/2 cup shredded Swiss cheese, 2 tsp lemon juice, 2 cups cooked cubed turkey, 4 oz mushrooms, 1/4 cup grated Parmesan cheese, 1 can refrigerated biscuits.\"\n",
    "ingredient2 = \"2 lb cream cheese, 1 3/4 cups sugar, 5 eggs, 15 Oreo cookies, 1/2 tsp vanilla, 1/2 tsp almond extract.\"\n",
    "\n",
    "# Tokenize and pad the sequences for the two ingredient samples\n",
    "ingredient1_sequence = train_tokenizer.texts_to_sequences(['🥕' + ingredient1])[0]\n",
    "ingredient2_sequence = train_tokenizer.texts_to_sequences(['🥕' + ingredient2])[0]\n",
    "\n",
    "ingredient1_padded = pad_sequences([ingredient1_sequence], maxlen=MAX_RECIPE_LENGTH, padding='post')\n",
    "ingredient2_padded = pad_sequences([ingredient2_sequence], maxlen=MAX_RECIPE_LENGTH, padding='post')\n",
    "\n",
    "# Generating the outputs from each model for the two ingredients\n",
    "output_ingredient1 = generate_text(model, ingredient1_padded, train_tokenizer, teacher_forcing_ratio=1.0)\n",
    "output_ingredient2 = generate_text(model, ingredient2_padded, train_tokenizer, teacher_forcing_ratio=1.0)\n",
    "\n",
    "# Print the decoded output and ground truth instructions\n",
    "print(\"Ingredient 1: \", ingredient1)\n",
    "print(\"Generated Output 1 :\", output_ingredient1)\n",
    "\n",
    "print(\"Ingredient 1: \", ingredient2)\n",
    "print(\"Generated Output 2 :\", output_ingredient2)"
   ]
  }
 ],
 "metadata": {
  "kernelspec": {
   "display_name": "Python 3 (ipykernel)",
   "language": "python",
   "name": "python3"
  },
  "language_info": {
   "codemirror_mode": {
    "name": "ipython",
    "version": 3
   },
   "file_extension": ".py",
   "mimetype": "text/x-python",
   "name": "python",
   "nbconvert_exporter": "python",
   "pygments_lexer": "ipython3",
   "version": "3.10.11"
  }
 },
 "nbformat": 4,
 "nbformat_minor": 5
}
